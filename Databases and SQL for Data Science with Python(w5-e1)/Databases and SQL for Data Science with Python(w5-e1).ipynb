{
 "cells": [
  {
   "cell_type": "code",
   "execution_count": 22,
   "id": "3ec7a387-fbb7-4d83-941a-70b650e9af7c",
   "metadata": {},
   "outputs": [
    {
     "name": "stdout",
     "output_type": "stream",
     "text": [
      "Database created and Successfully Connected to SQLite\n"
     ]
    }
   ],
   "source": [
    "import sqlite3\n",
    "import csv\n",
    "import pandas as pd\n",
    "\n",
    "# Establish a connection to your SQLite database\n",
    "con = sqlite3.connect(\"socioeconomic.db\")\n",
    "cur = con.cursor()\n",
    "print(\"Database created and Successfully Connected to SQLite\")\n",
    "\n",
    "\n",
    "#Harshal Pimpalshende"
   ]
  },
  {
   "cell_type": "code",
   "execution_count": 23,
   "id": "740342ed-8647-4bf2-9c08-5043c73ec633",
   "metadata": {},
   "outputs": [
    {
     "name": "stdout",
     "output_type": "stream",
     "text": [
      "Total number of crimes recorded: 533\n"
     ]
    }
   ],
   "source": [
    "# Load your CSV data into a Pandas DataFrame\n",
    "csv_file_path = 'Chicago_Crime_Data-v2.csv'\n",
    "df = pd.read_csv(csv_file_path)\n",
    "# Now, you can use Pandas to query and manipulate your data\n",
    "# For example, to select all records, you can simply do:\n",
    "all_records = df\n",
    "\n",
    "total_records = df.shape[0]\n",
    "print(\"Total number of crimes recorded:\", total_records)\n"
   ]
  },
  {
   "cell_type": "code",
   "execution_count": null,
   "id": "c918f0c2-9b4b-429d-b64d-89b1eaf23fda",
   "metadata": {},
   "outputs": [],
   "source": []
  }
 ],
 "metadata": {
  "kernelspec": {
   "display_name": "Python 3 (ipykernel)",
   "language": "python",
   "name": "python3"
  },
  "language_info": {
   "codemirror_mode": {
    "name": "ipython",
    "version": 3
   },
   "file_extension": ".py",
   "mimetype": "text/x-python",
   "name": "python",
   "nbconvert_exporter": "python",
   "pygments_lexer": "ipython3",
   "version": "3.10.12"
  }
 },
 "nbformat": 4,
 "nbformat_minor": 5
}
