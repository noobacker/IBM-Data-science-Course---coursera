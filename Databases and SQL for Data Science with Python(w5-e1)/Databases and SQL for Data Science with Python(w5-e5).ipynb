{
 "cells": [
  {
   "cell_type": "code",
   "execution_count": 5,
   "id": "3ec7a387-fbb7-4d83-941a-70b650e9af7c",
   "metadata": {},
   "outputs": [
    {
     "name": "stdout",
     "output_type": "stream",
     "text": [
      "Database created and Successfully Connected to SQLite\n"
     ]
    }
   ],
   "source": [
    "import sqlite3\n",
    "import csv\n",
    "import pandas as pd\n",
    "# Establish a connection to your SQLite database\n",
    "con = sqlite3.connect(\"socioeconomic.db\")\n",
    "cur = con.cursor()\n",
    "print(\"Database created and Successfully Connected to SQLite\")\n",
    "\n",
    "#Harshal Pimpalshende"
   ]
  },
  {
   "cell_type": "code",
   "execution_count": null,
   "id": "af367767-fda1-4e8d-aab5-f38ca35014af",
   "metadata": {},
   "outputs": [],
   "source": [
    "# Write and execute your SQL query\n",
    "SELECT DISTINCT \"PRIMARY_TYPE\"\n",
    "FROM \"CRIME\"\n",
    "WHERE \"LOCATION_DESCRIPTION\" LIKE '%SCHOOL%';\n"
   ]
  },
  {
   "cell_type": "markdown",
   "id": "edc441d5-de85-475f-94f8-9fc19e902a0f",
   "metadata": {},
   "source": [
    "**Problem 5: What kind of crimes were recorded at schools?**\n",
    "\n",
    "- ASSAULT\n",
    "- BATTERY\n",
    "- CRIMINAL DAMAGE\n",
    "- CRIMINAL TRESPASS\n",
    "- NARCOTICS\n",
    "- PUBLIC PEACE VIOLATION"
   ]
  }
 ],
 "metadata": {
  "kernelspec": {
   "display_name": "Python 3 (ipykernel)",
   "language": "python",
   "name": "python3"
  },
  "language_info": {
   "codemirror_mode": {
    "name": "ipython",
    "version": 3
   },
   "file_extension": ".py",
   "mimetype": "text/x-python",
   "name": "python",
   "nbconvert_exporter": "python",
   "pygments_lexer": "ipython3",
   "version": "3.10.12"
  }
 },
 "nbformat": 4,
 "nbformat_minor": 5
}
