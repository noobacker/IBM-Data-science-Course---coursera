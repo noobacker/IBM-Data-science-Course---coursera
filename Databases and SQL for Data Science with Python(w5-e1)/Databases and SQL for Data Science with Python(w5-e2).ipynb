{
 "cells": [
  {
   "cell_type": "code",
   "execution_count": 51,
   "id": "3ec7a387-fbb7-4d83-941a-70b650e9af7c",
   "metadata": {},
   "outputs": [
    {
     "name": "stdout",
     "output_type": "stream",
     "text": [
      "Database created and Successfully Connected to SQLite\n"
     ]
    }
   ],
   "source": [
    "import sqlite3\n",
    "import csv\n",
    "import pandas as pd\n",
    "\n",
    "# Establish a connection to your SQLite database\n",
    "con = sqlite3.connect(\"socioeconomic.db\")\n",
    "cur = con.cursor()\n",
    "print(\"Database created and Successfully Connected to SQLite\")\n",
    "\n",
    "#Harshal Pimpalshende"
   ]
  },
  {
   "cell_type": "code",
   "execution_count": 57,
   "id": "740342ed-8647-4bf2-9c08-5043c73ec633",
   "metadata": {},
   "outputs": [
    {
     "name": "stdout",
     "output_type": "stream",
     "text": [
      "Community Areas with per capita income less than 11,000:\n",
      "   COMMUNITY_AREA_NAME  PER_CAPITA_INCOME \n",
      "25  West Garfield Park               10934\n",
      "29      South Lawndale               10402\n",
      "36         Fuller Park               10432\n",
      "53           Riverdale                8201\n"
     ]
    }
   ],
   "source": [
    "\n",
    "csv_file_path = 'Census_Data.csv'\n",
    "df = pd.read_csv(csv_file_path)\n",
    "\n",
    "# Assuming the actual column name has an extra space at the end, use the correct name\n",
    "community_areas_low_income = df[df['PER_CAPITA_INCOME '] < 11000]\n",
    "\n",
    "# Display the result\n",
    "print(\"Community Areas with per capita income less than 11,000:\")\n",
    "print(community_areas_low_income[['COMMUNITY_AREA_NAME', 'PER_CAPITA_INCOME ']])"
   ]
  }
 ],
 "metadata": {
  "kernelspec": {
   "display_name": "Python 3 (ipykernel)",
   "language": "python",
   "name": "python3"
  },
  "language_info": {
   "codemirror_mode": {
    "name": "ipython",
    "version": 3
   },
   "file_extension": ".py",
   "mimetype": "text/x-python",
   "name": "python",
   "nbconvert_exporter": "python",
   "pygments_lexer": "ipython3",
   "version": "3.10.12"
  }
 },
 "nbformat": 4,
 "nbformat_minor": 5
}
