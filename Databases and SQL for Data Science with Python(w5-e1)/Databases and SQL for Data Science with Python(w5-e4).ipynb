{
 "cells": [
  {
   "cell_type": "code",
   "execution_count": 5,
   "id": "3ec7a387-fbb7-4d83-941a-70b650e9af7c",
   "metadata": {},
   "outputs": [
    {
     "name": "stdout",
     "output_type": "stream",
     "text": [
      "Database created and Successfully Connected to SQLite\n"
     ]
    }
   ],
   "source": [
    "import sqlite3\n",
    "import csv\n",
    "import pandas as pd\n",
    "\n",
    "# Establish a connection to your SQLite database\n",
    "con = sqlite3.connect(\"socioeconomic.db\")\n",
    "cur = con.cursor()\n",
    "print(\"Database created and Successfully Connected to SQLite\")\n",
    "\n",
    "#Harshal Pimpalshende"
   ]
  },
  {
   "cell_type": "code",
   "execution_count": null,
   "id": "c5001db9-08ec-4eba-8933-cf5860944148",
   "metadata": {},
   "outputs": [],
   "source": [
    "import sqlite3\n",
    "\n",
    "# Establish a connection to your SQLite database\n",
    "con = sqlite3.connect(\"socioeconomic.db\")\n",
    "cur = con.cursor()\n",
    "\n",
    "# Write and execute your SQL query\n",
    "*sql select * from CHICAGO_CRIME_DATA where primary_type like *%KIDNAP% and description like *%CHILD%*"
   ]
  },
  {
   "cell_type": "markdown",
   "id": "edc441d5-de85-475f-94f8-9fc19e902a0f",
   "metadata": {},
   "source": [
    "|   id   | Case Number |   DATE    |     block      | iucr | primary type |     description     | location description | arrest | domestic | beat | district | ward | comm |\n",
    "|-------|-------------|-----------|----------------|------|--------------|---------------------|-----------------------|--------|----------|------|----------|------|-------|\n",
    "| 5276766 |   05 006  |  2007-01-26  |  W VAN BUREN ST |  CHILD |  1792 KIDNAPPING ABDUCTION/STRANGER |  STREET | FALSE | FALSE | 1533 | 15 | 29 |\n"
   ]
  }
 ],
 "metadata": {
  "kernelspec": {
   "display_name": "Python 3 (ipykernel)",
   "language": "python",
   "name": "python3"
  },
  "language_info": {
   "codemirror_mode": {
    "name": "ipython",
    "version": 3
   },
   "file_extension": ".py",
   "mimetype": "text/x-python",
   "name": "python",
   "nbconvert_exporter": "python",
   "pygments_lexer": "ipython3",
   "version": "3.10.12"
  }
 },
 "nbformat": 4,
 "nbformat_minor": 5
}
