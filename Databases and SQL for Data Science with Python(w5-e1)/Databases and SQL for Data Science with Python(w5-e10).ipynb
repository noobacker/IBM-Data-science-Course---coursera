{
 "cells": [
  {
   "cell_type": "code",
   "execution_count": 15,
   "id": "3ec7a387-fbb7-4d83-941a-70b650e9af7c",
   "metadata": {},
   "outputs": [
    {
     "name": "stdout",
     "output_type": "stream",
     "text": [
      "Database created and Successfully Connected to SQLite\n"
     ]
    }
   ],
   "source": [
    "import sqlite3\n",
    "import csv\n",
    "import pandas as pd\n",
    "# Establish a connection to your SQLite database\n",
    "con = sqlite3.connect(\"socioeconomic.db\")\n",
    "cur = con.cursor()\n",
    "print(\"Database created and Successfully Connected to SQLite\")\n"
   ]
  },
  {
   "cell_type": "code",
   "execution_count": null,
   "id": "af367767-fda1-4e8d-aab5-f38ca35014af",
   "metadata": {},
   "outputs": [],
   "source": [
    "%%sql\n",
    "select community_area_name from CENSUS_DATA where hardship_index = (Select max (hardship_index) from CENSUS_DATA)"
   ]
  },
  {
   "cell_type": "markdown",
   "id": "edc441d5-de85-475f-94f8-9fc19e902a0f",
   "metadata": {},
   "source": [
    "| Community Area Name | \n",
    "|---------------------|\n",
    "| Riverdale            |\n"
   ]
  },
  {
   "cell_type": "code",
   "execution_count": null,
   "id": "28704546-2d91-42cd-aafc-f382951a35ac",
   "metadata": {},
   "outputs": [],
   "source": []
  }
 ],
 "metadata": {
  "kernelspec": {
   "display_name": "Python 3 (ipykernel)",
   "language": "python",
   "name": "python3"
  },
  "language_info": {
   "codemirror_mode": {
    "name": "ipython",
    "version": 3
   },
   "file_extension": ".py",
   "mimetype": "text/x-python",
   "name": "python",
   "nbconvert_exporter": "python",
   "pygments_lexer": "ipython3",
   "version": "3.10.12"
  }
 },
 "nbformat": 4,
 "nbformat_minor": 5
}
