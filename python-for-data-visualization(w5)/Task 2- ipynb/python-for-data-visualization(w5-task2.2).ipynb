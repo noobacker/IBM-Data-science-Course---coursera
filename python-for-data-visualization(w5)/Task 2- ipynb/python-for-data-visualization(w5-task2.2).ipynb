{
 "cells": [
  {
   "cell_type": "code",
   "execution_count": 2,
   "id": "75b479ef-57e3-4b1a-9971-6fafd52a6862",
   "metadata": {},
   "outputs": [
    {
     "data": {
      "text/html": [
       "\n",
       "        <iframe\n",
       "            width=\"100%\"\n",
       "            height=\"650\"\n",
       "            src=\"http://127.0.0.1:8050/\"\n",
       "            frameborder=\"0\"\n",
       "            allowfullscreen\n",
       "            \n",
       "        ></iframe>\n",
       "        "
      ],
      "text/plain": [
       "<IPython.lib.display.IFrame at 0x106f0f070>"
      ]
     },
     "metadata": {},
     "output_type": "display_data"
    }
   ],
   "source": [
    "import dash\n",
    "import dash_core_components as dcc\n",
    "import dash_html_components as html\n",
    "\n",
    "app = dash.Dash(__name__)\n",
    "\n",
    "app.layout = html.Div([\n",
    "    html.H1(\"XYZAutomotives Dashboard\", style={'textAlign': 'center'}),\n",
    "    dcc.Dropdown(\n",
    "        id='vehicle-type-dropdown',\n",
    "        options=[\n",
    "            {'label': 'Type A', 'value': 'A'},\n",
    "            {'label': 'Type B', 'value': 'B'},\n",
    "            {'label': 'Type C', 'value': 'C'}\n",
    "        ],\n",
    "        value='A',  # Default selected value\n",
    "        multi=True  # Set to True if you want to allow multiple selections\n",
    "    ),\n",
    "    # You can add more components here\n",
    "])\n",
    "\n",
    "if __name__ == '__main__':\n",
    "    app.run_server(debug=True)\n"
   ]
  },
  {
   "cell_type": "code",
   "execution_count": null,
   "id": "7c3ca2f2-b294-464f-b9b4-e4df3d58d474",
   "metadata": {},
   "outputs": [],
   "source": []
  }
 ],
 "metadata": {
  "kernelspec": {
   "display_name": "Python 3 (ipykernel)",
   "language": "python",
   "name": "python3"
  },
  "language_info": {
   "codemirror_mode": {
    "name": "ipython",
    "version": 3
   },
   "file_extension": ".py",
   "mimetype": "text/x-python",
   "name": "python",
   "nbconvert_exporter": "python",
   "pygments_lexer": "ipython3",
   "version": "3.10.12"
  }
 },
 "nbformat": 4,
 "nbformat_minor": 5
}
