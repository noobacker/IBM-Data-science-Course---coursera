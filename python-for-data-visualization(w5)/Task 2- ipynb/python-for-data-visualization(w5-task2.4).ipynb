{
 "cells": [
  {
   "cell_type": "code",
   "execution_count": 5,
   "id": "75b479ef-57e3-4b1a-9971-6fafd52a6862",
   "metadata": {},
   "outputs": [
    {
     "data": {
      "text/html": [
       "\n",
       "        <iframe\n",
       "            width=\"100%\"\n",
       "            height=\"650\"\n",
       "            src=\"http://127.0.0.1:8050/\"\n",
       "            frameborder=\"0\"\n",
       "            allowfullscreen\n",
       "            \n",
       "        ></iframe>\n",
       "        "
      ],
      "text/plain": [
       "<IPython.lib.display.IFrame at 0x106fa15a0>"
      ]
     },
     "metadata": {},
     "output_type": "display_data"
    }
   ],
   "source": [
    "# Import necessary modules\n",
    "import dash\n",
    "import dash_core_components as dcc\n",
    "import dash_html_components as html\n",
    "from dash.dependencies import Input, Output\n",
    "\n",
    "# Create a Dash application\n",
    "app = dash.Dash(__name__)\n",
    "\n",
    "# Define layout\n",
    "app.layout = html.Div([\n",
    "    html.H1(\"Recession and Yearly Report Statistics\"),\n",
    "    html.Label(\"Select Year:\"),\n",
    "    dcc.Dropdown(\n",
    "        id=\"year-dropdown\",\n",
    "        options=[\n",
    "            {'label': '2020', 'value': 2020},\n",
    "            {'label': '2021', 'value': 2021},\n",
    "            # Add more years as needed\n",
    "        ],\n",
    "        value=2020  # Set an initial value\n",
    "    ),\n",
    "    html.Label(\"Select Recession Report or Yearly Report:\"),\n",
    "    dcc.RadioItems(\n",
    "        id=\"report-type\",\n",
    "        options=[\n",
    "            {'label': 'Recession Report', 'value': 'recession'},\n",
    "            {'label': 'Yearly Report', 'value': 'yearly'},\n",
    "        ],\n",
    "        value='yearly'  # Set an initial value\n",
    "    ),\n",
    "    html.Div(id=\"report-content\"),\n",
    "])\n",
    "\n",
    "# Define callback function\n",
    "@app.callback(\n",
    "    Output(\"report-content\", \"children\"),\n",
    "    [Input(\"year-dropdown\", \"value\"), Input(\"report-type\", \"value\")]\n",
    ")\n",
    "def update_report_content(selected_year, report_type):\n",
    "    # Implement logic to generate the report content based on the selected year and report type\n",
    "    if report_type == 'recession':\n",
    "        # Generate recession report content for the selected year\n",
    "        content = f\"Recession Report for {selected_year}\"\n",
    "    else:\n",
    "        # Generate yearly report content for the selected year\n",
    "        content = f\"Yearly Report for {selected_year}\"\n",
    "    return content\n",
    "\n",
    "# Run the Dash app\n",
    "if __name__ == '__main__':\n",
    "    app.run_server(debug=True)\n"
   ]
  }
 ],
 "metadata": {
  "kernelspec": {
   "display_name": "Python 3 (ipykernel)",
   "language": "python",
   "name": "python3"
  },
  "language_info": {
   "codemirror_mode": {
    "name": "ipython",
    "version": 3
   },
   "file_extension": ".py",
   "mimetype": "text/x-python",
   "name": "python",
   "nbconvert_exporter": "python",
   "pygments_lexer": "ipython3",
   "version": "3.10.12"
  }
 },
 "nbformat": 4,
 "nbformat_minor": 5
}
