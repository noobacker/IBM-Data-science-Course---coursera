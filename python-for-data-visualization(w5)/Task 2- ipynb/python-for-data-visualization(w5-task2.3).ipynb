{
 "cells": [
  {
   "cell_type": "code",
   "execution_count": 3,
   "id": "75b479ef-57e3-4b1a-9971-6fafd52a6862",
   "metadata": {},
   "outputs": [
    {
     "data": {
      "text/html": [
       "\n",
       "        <iframe\n",
       "            width=\"100%\"\n",
       "            height=\"650\"\n",
       "            src=\"http://127.0.0.1:8050/\"\n",
       "            frameborder=\"0\"\n",
       "            allowfullscreen\n",
       "            \n",
       "        ></iframe>\n",
       "        "
      ],
      "text/plain": [
       "<IPython.lib.display.IFrame at 0x106f5c220>"
      ]
     },
     "metadata": {},
     "output_type": "display_data"
    }
   ],
   "source": [
    "import dash\n",
    "import dash_core_components as dcc\n",
    "import dash_html_components as html\n",
    "\n",
    "app = dash.Dash(__name__)\n",
    "\n",
    "app.layout = html.Div([\n",
    "    html.H1(\"XYZAutomotives Dashboard\", style={'textAlign': 'center'}),\n",
    "    dcc.Dropdown(\n",
    "        id='vehicle-type-dropdown',\n",
    "        options=[\n",
    "            {'label': 'Type A', 'value': 'A'},\n",
    "            {'label': 'Type B', 'value': 'B'},\n",
    "            {'label': 'Type C', 'value': 'C'}\n",
    "        ],\n",
    "        value='A',\n",
    "        multi=True\n",
    "    ),\n",
    "    html.Div(id='output-container')\n",
    "])\n",
    "\n",
    "@app.callback(\n",
    "    dash.dependencies.Output('output-container', 'children'),\n",
    "    [dash.dependencies.Input('vehicle-type-dropdown', 'value')]\n",
    ")\n",
    "def update_output(selected_values):\n",
    "    # Add your logic to generate the output based on selected_values\n",
    "    return f'Selected Types: {\", \".join(selected_values)}'\n",
    "\n",
    "if __name__ == '__main__':\n",
    "    app.run_server(debug=True)\n"
   ]
  },
  {
   "cell_type": "code",
   "execution_count": null,
   "id": "9d4a3050-3694-40ce-a53a-6621a1791526",
   "metadata": {},
   "outputs": [],
   "source": []
  }
 ],
 "metadata": {
  "kernelspec": {
   "display_name": "Python 3 (ipykernel)",
   "language": "python",
   "name": "python3"
  },
  "language_info": {
   "codemirror_mode": {
    "name": "ipython",
    "version": 3
   },
   "file_extension": ".py",
   "mimetype": "text/x-python",
   "name": "python",
   "nbconvert_exporter": "python",
   "pygments_lexer": "ipython3",
   "version": "3.10.12"
  }
 },
 "nbformat": 4,
 "nbformat_minor": 5
}
