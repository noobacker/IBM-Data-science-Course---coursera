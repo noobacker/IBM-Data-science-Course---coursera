{
 "cells": [
  {
   "cell_type": "code",
   "execution_count": 7,
   "id": "75b479ef-57e3-4b1a-9971-6fafd52a6862",
   "metadata": {},
   "outputs": [
    {
     "data": {
      "text/html": [
       "\n",
       "        <iframe\n",
       "            width=\"100%\"\n",
       "            height=\"650\"\n",
       "            src=\"http://127.0.0.1:8050/\"\n",
       "            frameborder=\"0\"\n",
       "            allowfullscreen\n",
       "            \n",
       "        ></iframe>\n",
       "        "
      ],
      "text/plain": [
       "<IPython.lib.display.IFrame at 0x106e78d00>"
      ]
     },
     "metadata": {},
     "output_type": "display_data"
    }
   ],
   "source": [
    "import dash\n",
    "import dash_core_components as dcc\n",
    "import dash_html_components as html\n",
    "from dash.dependencies import Input, Output\n",
    "import plotly.graph_objs as go\n",
    "\n",
    "# Sample data for the graphs (you should replace this with your data)\n",
    "years = [2018, 2019, 2020, 2021]\n",
    "sales = [100, 120, 90, 110]\n",
    "\n",
    "# Create a Dash application\n",
    "app = dash.Dash(__name__)\n",
    "\n",
    "# Define the layout\n",
    "app.layout = html.Div([\n",
    "    html.H1(\"Recession and Yearly Report Statistics\"),\n",
    "    \n",
    "    dcc.Graph(id=\"line-chart\"),\n",
    "    \n",
    "    # Dropdown for selecting a year\n",
    "    dcc.Dropdown(\n",
    "        id=\"year-dropdown\",\n",
    "        options=[{'label': year, 'value': year} for year in years],\n",
    "        value=years[0]\n",
    "    ),\n",
    "    \n",
    "    dcc.Graph(id=\"bar-chart\"),\n",
    "])\n",
    "\n",
    "# Callback for updating the line chart\n",
    "@app.callback(\n",
    "    Output(\"line-chart\", \"figure\"),\n",
    "    [Input(\"year-dropdown\", \"value\")]\n",
    ")\n",
    "def update_line_chart(selected_year):\n",
    "    # You can customize this graph based on your data\n",
    "    trace = go.Scatter(x=years, y=sales, mode='lines+markers', name='Sales')\n",
    "    layout = go.Layout(title=f'Sales Trend for {selected_year}', xaxis=dict(title='Year'), yaxis=dict(title='Sales'))\n",
    "    return {'data': [trace], 'layout': layout}\n",
    "\n",
    "# Callback for updating the bar chart\n",
    "@app.callback(\n",
    "    Output(\"bar-chart\", \"figure\"),\n",
    "    [Input(\"year-dropdown\", \"value\")]\n",
    ")\n",
    "def update_bar_chart(selected_year):\n",
    "    # You can customize this graph based on your data\n",
    "    trace = go.Bar(x=years, y=sales, name='Yearly Sales')\n",
    "    layout = go.Layout(title='Yearly Sales Statistics', xaxis=dict(title='Year'), yaxis=dict(title='Sales'))\n",
    "    return {'data': [trace], 'layout': layout}\n",
    "\n",
    "# Run the Dash app\n",
    "if __name__ == '__main__':\n",
    "    app.run_server(debug=True)\n"
   ]
  },
  {
   "cell_type": "code",
   "execution_count": null,
   "id": "79d6dd06-8ded-479e-81bc-b67fbe0e2e66",
   "metadata": {},
   "outputs": [],
   "source": []
  }
 ],
 "metadata": {
  "kernelspec": {
   "display_name": "Python 3 (ipykernel)",
   "language": "python",
   "name": "python3"
  },
  "language_info": {
   "codemirror_mode": {
    "name": "ipython",
    "version": 3
   },
   "file_extension": ".py",
   "mimetype": "text/x-python",
   "name": "python",
   "nbconvert_exporter": "python",
   "pygments_lexer": "ipython3",
   "version": "3.10.12"
  }
 },
 "nbformat": 4,
 "nbformat_minor": 5
}
