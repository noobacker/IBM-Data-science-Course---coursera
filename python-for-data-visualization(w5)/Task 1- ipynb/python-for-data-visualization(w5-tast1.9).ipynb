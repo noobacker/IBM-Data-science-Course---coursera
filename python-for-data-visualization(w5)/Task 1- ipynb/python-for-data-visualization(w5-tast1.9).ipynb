{
 "cells": [
  {
   "cell_type": "code",
   "execution_count": null,
   "id": "75b479ef-57e3-4b1a-9971-6fafd52a6862",
   "metadata": {},
   "outputs": [],
   "source": [
    "import seaborn as sns\n",
    "import matplotlib.pyplot as plt\n",
    "\n",
    "# Sample data (replace with your actual data)\n",
    "data = sns.load_dataset(\"diamonds\")  # Replace with your dataset\n",
    "\n",
    "# Create a countplot\n",
    "sns.set(style=\"whitegrid\")\n",
    "plt.figure(figsize=(10, 6))\n",
    "sns.countplot(data=data, x=\"cut\", hue=\"color\")\n",
    "plt.title(\"Effect of Unemployment Rate on Vehicle Type and Sales (Recession Period)\")\n",
    "plt.show()\n"
   ]
  },
  {
   "cell_type": "code",
   "execution_count": null,
   "id": "0af3b62b-d84d-4830-bf66-bb3c13d4dc8b",
   "metadata": {},
   "outputs": [],
   "source": []
  }
 ],
 "metadata": {
  "kernelspec": {
   "display_name": "Python 3 (ipykernel)",
   "language": "python",
   "name": "python3"
  },
  "language_info": {
   "codemirror_mode": {
    "name": "ipython",
    "version": 3
   },
   "file_extension": ".py",
   "mimetype": "text/x-python",
   "name": "python",
   "nbconvert_exporter": "python",
   "pygments_lexer": "ipython3",
   "version": "3.10.12"
  }
 },
 "nbformat": 4,
 "nbformat_minor": 5
}
