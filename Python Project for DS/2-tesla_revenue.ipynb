{
 "cells": [
  {
   "cell_type": "code",
   "execution_count": 11,
   "id": "23fea98f-7aeb-4499-b2b0-d0d02020e3e7",
   "metadata": {},
   "outputs": [
    {
     "name": "stdout",
     "output_type": "stream",
     "text": [
      "   Revenue\n",
      "9   $2,013\n",
      "10    $413\n",
      "11    $204\n",
      "12    $117\n",
      "13    $112\n"
     ]
    }
   ],
   "source": [
    "# Import necessary libraries for web scraping\n",
    "import requests\n",
    "from bs4 import BeautifulSoup\n",
    "\n",
    "# Define the URL for Tesla revenue data\n",
    "tesla_revenue_url = \"https://www.macrotrends.net/stocks/charts/TSLA/tesla/revenue\"\n",
    "\n",
    "# Define the User-Agent header\n",
    "headers = {\n",
    "    \"User-Agent\": \"Mozilla/5.0 (Windows NT 10.0; Win64; x64) AppleWebKit/537.36 (KHTML, like Gecko) Chrome/58.0.3029.110 Safari/537.36\"\n",
    "}\n",
    "\n",
    "# Send an HTTP GET request to the URL with headers\n",
    "response = requests.get(tesla_revenue_url, headers=headers)\n",
    "\n",
    "# Check if the request was successful\n",
    "if response.status_code == 200:\n",
    "    # Parse the HTML content of the page\n",
    "    soup = BeautifulSoup(response.text, \"html.parser\")\n",
    "\n",
    "    # Find the revenue table on the page (usually the first table)\n",
    "    revenue_table = soup.find(\"table\", class_=\"historical_data_table\")\n",
    "\n",
    "    # Check if the table was found\n",
    "    if revenue_table:\n",
    "        # Extract the table rows (excluding the header row)\n",
    "        table_rows = revenue_table.find_all(\"tr\")[1:]\n",
    "\n",
    "        # Create an empty list to store the revenue data\n",
    "        revenue_data = []\n",
    "\n",
    "        # Loop through the rows and extract revenue values\n",
    "        for row in table_rows:\n",
    "            # Extract the cells from the row\n",
    "            cells = row.find_all(\"td\")\n",
    "            # Extract the revenue value (assuming it's in the second column)\n",
    "            revenue_value = cells[1].get_text()\n",
    "            # Append the revenue value to the list\n",
    "            revenue_data.append(revenue_value)\n",
    "\n",
    "        # Create a dataframe from the revenue data (you'll need to import pandas)\n",
    "        import pandas as pd\n",
    "\n",
    "        # Create a dataframe with a single column named \"Revenue\"\n",
    "        tesla_revenue = pd.DataFrame(revenue_data, columns=[\"Revenue\"])\n",
    "\n",
    "        # Display the last five rows of the dataframe\n",
    "        print(tesla_revenue.tail())\n",
    "    else:\n",
    "        print(\"Revenue table not found on the webpage.\")\n",
    "else:\n",
    "    print(\"Failed to retrieve webpage. HTTP Status Code:\", response.status_code)\n"
   ]
  },
  {
   "cell_type": "code",
   "execution_count": null,
   "id": "11f68b40-8d63-4690-8ecb-fe68fc4342f1",
   "metadata": {},
   "outputs": [],
   "source": []
  }
 ],
 "metadata": {
  "kernelspec": {
   "display_name": "Python 3 (ipykernel)",
   "language": "python",
   "name": "python3"
  },
  "language_info": {
   "codemirror_mode": {
    "name": "ipython",
    "version": 3
   },
   "file_extension": ".py",
   "mimetype": "text/x-python",
   "name": "python",
   "nbconvert_exporter": "python",
   "pygments_lexer": "ipython3",
   "version": "3.10.12"
  }
 },
 "nbformat": 4,
 "nbformat_minor": 5
}
