{
 "cells": [
  {
   "cell_type": "code",
   "execution_count": null,
   "id": "e96e3879-2cdc-423c-8f6b-76dd91b2dbed",
   "metadata": {},
   "outputs": [],
   "source": [
    "--#SET TERMINATOR @\n",
    "CREATE OR REPLACE PROCEDURE UPDATE LEADERS _SCORE(\n",
    "    IN in School_ID INTEGER,\n",
    "    IN in Leader_Score INTEGER)\n",
    "LANGUAGE SQL\n",
    "MODIFIES SQL DATA\n",
    "\n",
    "BEGIN\n",
    "\n",
    "UPDATE CHICAGO PUBLIC SCHOOLS\n",
    "SET \"Leaders Score\" = in_Leader_Score\n",
    "WHERE \"School ID\" = in _School_ID;\n",
    "\n",
    "END\n",
    "@"
   ]
  },
  {
   "cell_type": "markdown",
   "id": "edfed76c-91b9-4f85-883c-5a60521bcbde",
   "metadata": {},
   "source": [
    "CREATE OR REPLACE PROCEDURE UPDATE_LEADERS_SCORE(\n",
    "in School ID INTEGER,\n",
    "in Leader Score INTEGER)"
   ]
  }
 ],
 "metadata": {
  "kernelspec": {
   "display_name": "Python 3 (ipykernel)",
   "language": "python",
   "name": "python3"
  },
  "language_info": {
   "codemirror_mode": {
    "name": "ipython",
    "version": 3
   },
   "file_extension": ".py",
   "mimetype": "text/x-python",
   "name": "python",
   "nbconvert_exporter": "python",
   "pygments_lexer": "ipython3",
   "version": "3.10.12"
  }
 },
 "nbformat": 4,
 "nbformat_minor": 5
}
