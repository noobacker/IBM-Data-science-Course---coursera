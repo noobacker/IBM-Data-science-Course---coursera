{
 "cells": [
  {
   "cell_type": "code",
   "execution_count": null,
   "id": "fe7b920a-9467-4d28-9eb0-222ab02cd837",
   "metadata": {},
   "outputs": [],
   "source": [
    "%sql sqlite:///Chicago_Public_Schools_-_Progress_Report_Cards_2011-2012-v3. csv"
   ]
  },
  {
   "cell_type": "code",
   "execution_count": null,
   "id": "e96e3879-2cdc-423c-8f6b-76dd91b2dbed",
   "metadata": {},
   "outputs": [],
   "source": [
    "CREATE OR REPLACE VIEW SCHOOL_DATA (\"School Name\", \"Leaders _Rating\")\n",
    "AS SELECT \"NAME OF SCHOOL\", \"Leaders Icon\"\n",
    "FROM CHICAGO_PUBLIC_SCHOOLS;\n",
    "SELECT * FROM SCHOOL_DATA;|"
   ]
  },
  {
   "cell_type": "markdown",
   "id": "01e8be7b-fdc9-4af8-8aa2-9543472cc4dc",
   "metadata": {},
   "source": [
    "| Name of School                                         | Average Student Attendance | Community Area Name | Hardship Index |\n",
    "|--------------------------------------------------------|---------------------------|---------------------|----------------|\n",
    "| George Washington Carver Military Academy High School  | 91.60%                    | Riverdale           | 98             |\n",
    "| William E B Dubois Elementary School                   | 90.90%                    | Riverdale           | 98             |\n",
    "| Ira F Aldridge Elementary School                       | 92.90%                    | Riverdale           | 98             |\n",
    "| George Washington Carver Primary School                | 93.30%                    | Riverdale           | 98             |\n"
   ]
  },
  {
   "cell_type": "code",
   "execution_count": null,
   "id": "47dfe6ea-563e-4865-a490-2559a50689bf",
   "metadata": {},
   "outputs": [],
   "source": []
  }
 ],
 "metadata": {
  "kernelspec": {
   "display_name": "Python 3 (ipykernel)",
   "language": "python",
   "name": "python3"
  },
  "language_info": {
   "codemirror_mode": {
    "name": "ipython",
    "version": 3
   },
   "file_extension": ".py",
   "mimetype": "text/x-python",
   "name": "python",
   "nbconvert_exporter": "python",
   "pygments_lexer": "ipython3",
   "version": "3.10.12"
  }
 },
 "nbformat": 4,
 "nbformat_minor": 5
}
