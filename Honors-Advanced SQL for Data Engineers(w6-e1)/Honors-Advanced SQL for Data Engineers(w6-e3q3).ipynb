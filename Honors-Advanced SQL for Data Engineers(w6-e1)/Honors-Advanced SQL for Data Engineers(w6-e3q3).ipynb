{
 "cells": [
  {
   "cell_type": "code",
   "execution_count": null,
   "id": "e96e3879-2cdc-423c-8f6b-76dd91b2dbed",
   "metadata": {},
   "outputs": [],
   "source": [
    "--#SET TERMINATOR @\n",
    "CREATE OR REPLACE PROCEDURE UPDATE_LEADERS_SCORE(\n",
    "IN in_School_ID INTEGER, IN in _Leader_Score INTEGER)\n",
    "\n",
    "LANGUAGE SQL\n",
    "MODIFIES SQL DATA\n",
    "BEGIN\n",
    "\n",
    "UPDATE CHICAGO PUBLIC SCHOOLS\n",
    "SET \"Leaders _Score\" = in_Leader_Score\n",
    "WHERE \"School_ID\" = in_School_ID;\n",
    "IF in_Leader_Score > 0 AND in _Leader_Score <20\n",
    "UPDATE CHICAGO PUBLIC SCHOOLS\n",
    "SET \"Leaders Icon\" = 'Very Weak';\n",
    "ELSEIF in_Leader_Score < 40 THEN\n",
    "UPDATE CHICAGO PUBLIC SCHOOLS\n",
    "SET \"Leaders Icon\" = 'Weak;\n",
    "ELSEIF in Leader Score < 60 THEN\n",
    "UPDATE CHICAGO PUBLIC SCHOOLS\n",
    "SET \"Leaders Icon\" = 'Average';\n",
    "ELSEIF in Leader Score < 80 THEN\n",
    "UPDATE CHICAGO PUBLIC SCHOOLS\n",
    "SET \"Leaders Icon\" = 'Strong';\n",
    "ELSEIF in Leader Score < 100 THEN\n",
    "UPDATE CHICAGO PUBLIC SCHOOLS\n",
    "SET \"Leaders Icon\" = Very Strong';\n",
    "end IF;\n",
    "END"
   ]
  },
  {
   "cell_type": "markdown",
   "id": "edfed76c-91b9-4f85-883c-5a60521bcbde",
   "metadata": {},
   "source": [
    "CREATE OR REPLACE PROCEDURE UPDATE_LEADERS_SCORE(\n",
    "IN in_School_ID INTEGER, IN in _Leader_Score INTEGER)\n"
   ]
  },
  {
   "cell_type": "code",
   "execution_count": null,
   "id": "f1d7ae90-91d4-4dcf-b381-6fddb44e48a1",
   "metadata": {},
   "outputs": [],
   "source": []
  }
 ],
 "metadata": {
  "kernelspec": {
   "display_name": "Python 3 (ipykernel)",
   "language": "python",
   "name": "python3"
  },
  "language_info": {
   "codemirror_mode": {
    "name": "ipython",
    "version": 3
   },
   "file_extension": ".py",
   "mimetype": "text/x-python",
   "name": "python",
   "nbconvert_exporter": "python",
   "pygments_lexer": "ipython3",
   "version": "3.10.12"
  }
 },
 "nbformat": 4,
 "nbformat_minor": 5
}
