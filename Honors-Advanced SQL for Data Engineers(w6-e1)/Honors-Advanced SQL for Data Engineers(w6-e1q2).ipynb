{
 "cells": [
  {
   "cell_type": "code",
   "execution_count": 16,
   "id": "2b175215-9e2d-4635-9d8a-c44df8d15bc9",
   "metadata": {
    "scrolled": true
   },
   "outputs": [],
   "source": [
    "\n",
    "%sql sqlite:///Chicago_Public_Schools_-_Progress_Report_Cards__2011-2012-v3.csv\n"
   ]
  },
  {
   "cell_type": "code",
   "execution_count": 17,
   "id": "e7521af7-f28d-4603-803f-eb3b931debe6",
   "metadata": {},
   "outputs": [
    {
     "name": "stdout",
     "output_type": "stream",
     "text": [
      " * sqlite:///Chicago_Public_Schools_-_Progress_Report_Cards__2011-2012-v3.csv\n",
      "   sqlite:///your-database.db\n",
      "(sqlite3.DatabaseError) file is not a database\n",
      "[SQL: select cod. case_number,ccd. primary_type ,cd. community_area _name, ced.location_description\n",
      "from chicago_crime_data as ccd\n",
      "left outer join census_data as cd\n",
      "on ccd. community_area_number= cd. community_area_number]\n",
      "(Background on this error at: https://sqlalche.me/e/20/4xp6)\n"
     ]
    }
   ],
   "source": [
    "%%sql\n",
    "select cod. case_number,ccd. primary_type ,cd. community_area _name, ced.location_description\n",
    "from chicago_crime_data as ccd\n",
    "left outer join census_data as cd\n",
    "on ccd. community_area_number= cd. community_area_number\n",
    "where ccd.location_description like '%SCHOOL%';"
   ]
  },
  {
   "cell_type": "markdown",
   "id": "01e8be7b-fdc9-4af8-8aa2-9543472cc4dc",
   "metadata": {},
   "source": [
    "| case_number | primary_type     | community_area_name          | location_description        |\n",
    "|-------------|------------------|-----------------------------|----------------------------|\n",
    "| HK577020    | NARCOTICS        | Rogers Park                 | SCHOOL, PUBLIC, GROUNDS     |\n",
    "| HL725506    | BATTERY          | Lincoln Square              | SCHOOL, PUBLIC, BUILDING    |\n",
    "| HH639427    | BATTERY          | Austin                      | SCHOOL, PUBLIC, BUILDING    |\n",
    "| HS200939    | CRIMINAL DAMAGE  | Austin                      | SCHOOL, PUBLIC, GROUNDS     |\n",
    "| HT315369    | ASSAULT          | East Garfield Park          | SCHOOL, PUBLIC, GROUNDS     |\n",
    "| HP716225    | BATTERY          | Douglas                     | SCHOOL, PUBLIC, BUILDING    |\n",
    "| HL353697    | BATTERY          | South Shore                 | SCHOOL, PUBLIC, GROUNDS     |\n",
    "| HS305 355   | NARCOTICS        | Brighton Park               | SCHOOL, PUBLIC, BUILDING    |\n",
    "| JA460432    | BATTERY          | Ashburn                     | SCHOOL, PUBLIC, GROUNDS     |\n",
    "| HR585 012   | CRIMINAL TRESPASS| Ashburn                     | SCHOOL, PUBLIC, GROUNDS     |\n",
    "| HH292682    | PUBLIC PEACE VIOLATION| None                     | SCHOOL, PRIVATE, BUILDING  |\n"
   ]
  },
  {
   "cell_type": "code",
   "execution_count": null,
   "id": "fe7b920a-9467-4d28-9eb0-222ab02cd837",
   "metadata": {},
   "outputs": [],
   "source": []
  }
 ],
 "metadata": {
  "kernelspec": {
   "display_name": "Python 3 (ipykernel)",
   "language": "python",
   "name": "python3"
  },
  "language_info": {
   "codemirror_mode": {
    "name": "ipython",
    "version": 3
   },
   "file_extension": ".py",
   "mimetype": "text/x-python",
   "name": "python",
   "nbconvert_exporter": "python",
   "pygments_lexer": "ipython3",
   "version": "3.10.12"
  }
 },
 "nbformat": 4,
 "nbformat_minor": 5
}
