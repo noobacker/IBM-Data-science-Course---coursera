{
 "cells": [
  {
   "cell_type": "code",
   "execution_count": null,
   "id": "e96e3879-2cdc-423c-8f6b-76dd91b2dbed",
   "metadata": {},
   "outputs": [],
   "source": [
    "SET TERMINATOR @\n",
    "\n",
    "CREATE OR REPLACE PROCEDURE UPDATE_LEADERS_SCORE (\n",
    "    IN in_School_ID INT,\n",
    "    IN in_Leader_Score INT\n",
    ")\n",
    "BEGIN\n",
    "    -- Update the Leaders_Score field in the CHICAGO_PUBLIC_SCHOOLS table\n",
    "    -- for the school identified by in_School_ID to the value in in_Leader_Score\n",
    "    UPDATE CHICAGO_PUBLIC_SCHOOLS\n",
    "    SET Leaders_Score = in_Leader_Score\n",
    "    WHERE School_ID = in_School_ID;\n",
    "END@\n",
    "\n",
    "-- Reset the terminator to the default\n",
    "SET TERMINATOR ;\n"
   ]
  },
  {
   "cell_type": "markdown",
   "id": "edfed76c-91b9-4f85-883c-5a60521bcbde",
   "metadata": {},
   "source": [
    "CREATE OR REPLACE PROCEDURE UPDATE_LEADERS_SCORE (\n",
    "    IN in_School_ID INT,\n",
    "    IN in_Leader_Score INT\n",
    ")"
   ]
  }
 ],
 "metadata": {
  "kernelspec": {
   "display_name": "Python 3 (ipykernel)",
   "language": "python",
   "name": "python3"
  },
  "language_info": {
   "codemirror_mode": {
    "name": "ipython",
    "version": 3
   },
   "file_extension": ".py",
   "mimetype": "text/x-python",
   "name": "python",
   "nbconvert_exporter": "python",
   "pygments_lexer": "ipython3",
   "version": "3.10.12"
  }
 },
 "nbformat": 4,
 "nbformat_minor": 5
}
