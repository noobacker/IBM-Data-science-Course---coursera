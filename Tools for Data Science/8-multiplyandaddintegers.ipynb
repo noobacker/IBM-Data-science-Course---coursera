{
  "metadata": {
    "language_info": {
      "codemirror_mode": {
        "name": "python",
        "version": 3
      },
      "file_extension": ".py",
      "mimetype": "text/x-python",
      "name": "python",
      "nbconvert_exporter": "python",
      "pygments_lexer": "ipython3",
      "version": "3.8"
    },
    "kernelspec": {
      "name": "python",
      "display_name": "Python (Pyodide)",
      "language": "python"
    }
  },
  "nbformat_minor": 4,
  "nbformat": 4,
  "cells": [
    {
      "cell_type": "code",
      "source": "# This is a simple arithmetic expression to multiply then add integers.\na = (3*4)+5\n\nprint (\"the answer is = \")\nprint (a)",
      "metadata": {
        "trusted": true
      },
      "execution_count": 25,
      "outputs": [
        {
          "name": "stdout",
          "text": "the answer is = \n17\n",
          "output_type": "stream"
        }
      ]
    }
  ]
}